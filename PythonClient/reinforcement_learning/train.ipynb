{
 "cells": [
  {
   "cell_type": "markdown",
   "metadata": {},
   "source": [
    "# Investigating Amount of Necessary Real-World Data for Road-Following Tasks"
   ]
  },
  {
   "cell_type": "markdown",
   "metadata": {},
   "source": [
    "#### Imports"
   ]
  },
  {
   "cell_type": "code",
   "execution_count": 3,
   "metadata": {},
   "outputs": [
    {
     "name": "stdout",
     "output_type": "stream",
     "text": [
      "The autoreload extension is already loaded. To reload it, use:\n",
      "  %reload_ext autoreload\n"
     ]
    }
   ],
   "source": [
    "%load_ext autoreload\n",
    "%autoreload 2\n",
    "\n",
    "import torch\n",
    "import os\n",
    "import importlib\n",
    "import torch.nn as nn\n",
    "import torch.nn.functional as F\n",
    "import torch.optim as optim\n",
    "import matplotlib.pyplot as plt\n",
    "import numpy as np\n",
    "import image_dataset\n",
    "\n",
    "importlib.reload(image_dataset)\n",
    "\n",
    "from image_dataset import ImageSteeringAngleDataset, load_real_data, load_sim_data, shuffle_real_sim_data\n",
    "from model import NeighborhoodRealCNN\n",
    "from utils_graphs import plot_two_datasets, plot_model_sim_output, plot_loss_curve\n",
    "import torchvision.transforms as transforms\n"
   ]
  },
  {
   "cell_type": "markdown",
   "metadata": {},
   "source": [
    "#### Hyperparameters"
   ]
  },
  {
   "cell_type": "code",
   "execution_count": 45,
   "metadata": {},
   "outputs": [],
   "source": [
    "sim_ratio = 0.5\n",
    "data_sim_dir = \"C:/Users/Cleah/Documents/AirSim/\"\n",
    "data_real_dir = \"C:\\\\Users\\\\Cleah\\\\Documents\\\\Projects\\\\University Research\\\\Robot Learning Lab\\\\Simulator\\\\airsim-car-experiments\\\\PythonClient\\\\reinforcement_learning\\\\balanced_data_split\\\\\"\n",
    "model_dir = \"realOnSim.pth\"\n",
    "\n",
    "batch_size = 2\n",
    "epochs = 30\n",
    "learning_rate = 0.0001\n",
    "momentum = 0.9"
   ]
  },
  {
   "cell_type": "markdown",
   "metadata": {},
   "source": [
    "#### Data Loading"
   ]
  },
  {
   "cell_type": "code",
   "execution_count": 41,
   "metadata": {},
   "outputs": [
    {
     "name": "stdout",
     "output_type": "stream",
     "text": [
      "torch.Size([815, 3, 144, 256])\n",
      "real images: (tensor(-2.1644, dtype=torch.float64), tensor(2.5241, dtype=torch.float64))\n",
      "Steering angle tensor shape: torch.Size([5382, 1])\n",
      "Sim images lenght torch.Size([5382, 3, 144, 256]) and sa torch.Size([5382, 1])\n",
      "Real images lenght torch.Size([815, 3, 144, 256]) and sa torch.Size([815, 1])\n",
      "5382 815 815\n"
     ]
    }
   ],
   "source": [
    "# Load data. \n",
    "# Specify ratio of real:sim. 1 - sim_ratio = real_ratio\n",
    "sim_ratio = 0.1\n",
    "\n",
    "data_real_list = [f\"{data_real_dir}\"]\n",
    "data_sim_list =[f\"{data_sim_dir}2023-07-20-12-44-49\",\n",
    "                f\"{data_sim_dir}2023-07-20-15-11-35\",\n",
    "                f\"{data_sim_dir}2023-08-31-12-43-09\",\n",
    "                f\"{data_sim_dir}2023-08-31-17-38-56\",\n",
    "                f\"{data_sim_dir}2023-08-31-17-46-35\",\n",
    "                f\"{data_sim_dir}2023-08-31-17-58-47\",\n",
    "                f\"{data_sim_dir}2023-08-31-18-25-48\",\n",
    "                f\"{data_sim_dir}2023-08-31-18-38-10\",\n",
    "                f\"{data_sim_dir}2023-09-05-10-46-44\",\n",
    "                f\"{data_sim_dir}2023-09-05-17-52-22\",\n",
    "                f\"{data_sim_dir}2023-09-05-18-15-04\",\n",
    "                f\"{data_sim_dir}2023-09-07-11-39-09\",\n",
    "                f\"{data_sim_dir}2023-09-08-08-26-58\",\n",
    "                f\"{data_sim_dir}2023-09-08-08-33-30\",\n",
    "                f\"{data_sim_dir}2023-09-08-08-43-51\",\n",
    "                f\"{data_sim_dir}2023-09-08-09-37-12\",\n",
    "                f\"{data_sim_dir}2023-09-08-11-44-53\",\n",
    "                f\"{data_sim_dir}2023-09-08-11-49-02\",\n",
    "                f\"{data_sim_dir}2023-09-08-11-53-42\",\n",
    "                f\"{data_sim_dir}2023-09-08-11-55-47\",\n",
    "                f\"{data_sim_dir}2023-09-12-10-26-49\"\n",
    "            ]\n",
    "\n",
    "real_data = load_real_data(data_real_list)\n",
    "sim_data = load_sim_data(data_sim_list)\n",
    "print(f\"Sim images lenght {sim_data[0].shape} and sa {sim_data[1].shape}\")\n",
    "print(f\"Real images lenght {real_data[0].shape} and sa {real_data[1].shape}\")\n",
    "\n",
    "\n",
    "shuffled_real_sim_data = shuffle_real_sim_data(real_data, sim_data, sim_ratio)\n",
    "# print(f\"combined imags: {torch.min(shuffled_real_sim_data[0][0]), torch.max(shuffled_real_sim_data[0][0])}\")\n",
    "\n",
    "dataset = ImageSteeringAngleDataset(shuffled_real_sim_data[0], shuffled_real_sim_data[1])\n",
    "\n",
    "dataloader = torch.utils.data.DataLoader(dataset, batch_size=batch_size, shuffle=True)"
   ]
  },
  {
   "cell_type": "markdown",
   "metadata": {},
   "source": [
    "#### Train"
   ]
  },
  {
   "cell_type": "code",
   "execution_count": 46,
   "metadata": {},
   "outputs": [
    {
     "name": "stdout",
     "output_type": "stream",
     "text": [
      "Epoch 0\n",
      "Running Loss 2.307019756897467\n",
      "Epoch 1\n",
      "Running Loss 2.073337707221143\n",
      "Epoch 2\n",
      "Running Loss 1.9397748947901396\n",
      "Epoch 3\n",
      "Running Loss 1.7843715555180668\n",
      "Epoch 4\n",
      "Running Loss 1.6935258035036718\n",
      "Epoch 5\n",
      "Running Loss 1.5385845674900338\n",
      "Epoch 6\n",
      "Running Loss 1.4427283536711268\n",
      "Epoch 7\n",
      "Running Loss 1.2844048798524812\n",
      "Epoch 8\n",
      "Running Loss 1.1701514804187942\n",
      "Epoch 9\n",
      "Running Loss 1.0384296391538217\n",
      "Epoch 10\n",
      "Running Loss 0.9368173337504998\n",
      "Epoch 11\n",
      "Running Loss 0.8216039581890857\n",
      "Epoch 12\n",
      "Running Loss 0.7375384466734021\n",
      "Epoch 13\n",
      "Running Loss 0.643939594764436\n",
      "Epoch 14\n",
      "Running Loss 0.5550266196449086\n",
      "Epoch 15\n",
      "Running Loss 0.4558962688737951\n",
      "Epoch 16\n",
      "Running Loss 0.41033956916619313\n",
      "Epoch 17\n",
      "Running Loss 0.35121433048876566\n",
      "Epoch 18\n",
      "Running Loss 0.33637065534005123\n",
      "Epoch 19\n",
      "Running Loss 0.2794045510909557\n",
      "Epoch 20\n",
      "Running Loss 0.23764755654687464\n",
      "Epoch 21\n",
      "Running Loss 0.2155181026213469\n",
      "Epoch 22\n",
      "Running Loss 0.18724926251589374\n",
      "Epoch 23\n",
      "Running Loss 0.17204544419313178\n",
      "Epoch 24\n",
      "Running Loss 0.15105432196686902\n",
      "Epoch 25\n",
      "Running Loss 0.13938415517366273\n",
      "Epoch 26\n",
      "Running Loss 0.1353363878813837\n",
      "Epoch 27\n",
      "Running Loss 0.12651891693902\n",
      "Epoch 28\n",
      "Running Loss 0.12260273429530892\n",
      "Epoch 29\n",
      "Running Loss 0.11835532136348204\n",
      "Finished Training\n"
     ]
    },
    {
     "data": {
      "image/png": "[encoded data removed]",
      "text/plain": [
       "<Figure size 432x288 with 1 Axes>"
      ]
     },
     "metadata": {
      "needs_background": "light"
     },
     "output_type": "display_data"
    }
   ],
   "source": [
    "# Loads model\n",
    "cnn = NeighborhoodRealCNN()\n",
    "\n",
    "# Optimizer\n",
    "loss = nn.MSELoss()\n",
    "optimizer = optim.SGD(cnn.parameters(), lr=learning_rate, momentum=momentum)\n",
    "\n",
    "running_losses_list = []\n",
    "for epoch in range(epochs):  # loop over the dataset epoch times\n",
    "    running_loss = 0.0\n",
    "    print(f\"Epoch {epoch}\")\n",
    "    for i, data in enumerate(dataloader, 0):\n",
    "        \n",
    "        # get the inputs; data is a list of [inputs, labels]\n",
    "        image, steering_angle = data\n",
    "        # print(torch.min(image[0]), torch.max(image[0]))\n",
    "        # assert False\n",
    "        # print(f\"steering_angle {steering_angle}\")\n",
    "        image, steering_angle = image.float(), steering_angle.float()\n",
    "        # zero the parameter gradients\n",
    "        optimizer.zero_grad()\n",
    "        outputs = cnn(image)\n",
    "        loss_out = loss(outputs, steering_angle)\n",
    "        loss_out.backward()\n",
    "        optimizer.step()\n",
    "        running_loss += loss_out.item()\n",
    "    \n",
    "    print(f\"Running Loss {running_loss / len(dataloader)}\")\n",
    "    running_losses_list.append(float(running_loss / len(dataloader)))\n",
    "\n",
    "print('Finished Training')\n",
    "\n",
    "# Plot train losses\n",
    "plot_loss_curve(running_losses_list, epochs)\n",
    "\n",
    "torch.save(cnn, model_dir)"
   ]
  },
  {
   "cell_type": "markdown",
   "metadata": {},
   "source": [
    "#### Evaluate"
   ]
  },
  {
   "cell_type": "code",
   "execution_count": null,
   "metadata": {},
   "outputs": [],
   "source": []
  }
 ],
 "metadata": {
  "kernelspec": {
   "display_name": "Python 3",
   "language": "python",
   "name": "python3"
  },
  "language_info": {
   "codemirror_mode": {
    "name": "ipython",
    "version": 3
   },
   "file_extension": ".py",
   "mimetype": "text/x-python",
   "name": "python",
   "nbconvert_exporter": "python",
   "pygments_lexer": "ipython3",
   "version": "3.9.4"
  }
 },
 "nbformat": 4,
 "nbformat_minor": 2
}
