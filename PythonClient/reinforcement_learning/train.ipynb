{
 "cells": [
  {
   "cell_type": "code",
   "execution_count": 1,
   "metadata": {},
   "outputs": [],
   "source": [
    "# Investigating Amount of Necessary Real-World Data for Road-Following Tasks\n",
    "#### Imports\n",
    "%load_ext autoreload\n",
    "%autoreload 2\n",
    "\n",
    "import torch\n",
    "import os\n",
    "import importlib\n",
    "import torch.nn as nn\n",
    "import torch.nn.functional as F\n",
    "import torch.optim as optim\n",
    "import matplotlib.pyplot as plt\n",
    "import numpy as np\n",
    "import image_dataset\n",
    "\n",
    "importlib.reload(image_dataset)\n",
    "\n",
    "from image_dataset import ImageSteeringAngleDataset, load_real_data, load_sim_data, shuffle_real_sim_data\n",
    "from model import NeighborhoodRealCNN\n",
    "from utils_graphs import plot_two_datasets, plot_model_sim_output, plot_loss_curve\n",
    "import torchvision.transforms as transforms\n",
    "from torch.utils.data import random_split\n",
    "\n",
    "#### Hyperparameters\n",
    "# Specify ratio of real:sim. 1 - sim_ratio = real_ratio\n",
    "sim_ratio = 0\n",
    "data_sim_dir = \"C:/Users/Cleah/Documents/AirSim/\"\n",
    "data_real_dir = \"C:\\\\Users\\\\Cleah\\\\Documents\\\\Projects\\\\University Research\\\\Robot Learning Lab\\\\Simulator\\\\airsim-car-experiments\\\\PythonClient\\\\reinforcement_learning\\\\balanced_data_split\\\\balanced_data_split\\\\\"\n",
    "model_dir = \"realOnSim.pth\"\n",
    "from torch.utils.data import random_split\n"
   ]
  },
  {
   "cell_type": "markdown",
   "metadata": {},
   "source": [
    "#### Hyperparameters"
   ]
  },
  {
   "cell_type": "code",
   "execution_count": 10,
   "metadata": {},
   "outputs": [],
   "source": [
    "# Specify ratio of real:sim. 1 - sim_ratio = real_ratio\n",
    "sim_ratio = 1\n",
    "# Coastline or Neighborhood\n",
    "sim_environ = \"Coastline\"\n",
    "data_sim_dir = f\"C:/Users/Cleah/Documents/AirSim/{sim_environ}\"\n",
    "data_real_dir = \"C:\\\\Users\\\\Cleah\\\\Documents\\\\Projects\\\\University Research\\\\Robot Learning Lab\\\\Simulator\\\\airsim-car-experiments\\\\PythonClient\\\\reinforcement_learning\\\\balanced_data_split_new\\\\\"\n",
    "model_dir = \"simModel.pth\"\n",
    "\n",
    "batch_size = 2\n",
    "epochs = 30\n",
    "learning_rate = 0.0001\n",
    "momentum = 0.9"
   ]
  },
  {
   "cell_type": "markdown",
   "metadata": {},
   "source": [
    "#### Data Loading"
   ]
  },
  {
   "cell_type": "code",
   "execution_count": 13,
   "metadata": {},
   "outputs": [
    {
     "name": "stdout",
     "output_type": "stream",
     "text": [
      "1\n"
     ]
    },
    {
     "ename": "RuntimeError",
     "evalue": "[enforce fail at ..\\c10\\core\\CPUAllocator.cpp:79] data. DefaultCPUAllocator: not enough memory: you tried to allocate 3004416000 bytes.",
     "output_type": "error",
     "traceback": [
      "\u001b[1;31m---------------------------------------------------------------------------\u001b[0m",
      "\u001b[1;31mRuntimeError\u001b[0m                              Traceback (most recent call last)",
      "\u001b[1;32m<ipython-input-13-d70d0de0a1cf>\u001b[0m in \u001b[0;36m<module>\u001b[1;34m\u001b[0m\n\u001b[0;32m     37\u001b[0m                 ]\n\u001b[0;32m     38\u001b[0m \u001b[1;33m\u001b[0m\u001b[0m\n\u001b[1;32m---> 39\u001b[1;33m \u001b[0mreal_data\u001b[0m \u001b[1;33m=\u001b[0m \u001b[0mload_real_data\u001b[0m\u001b[1;33m(\u001b[0m\u001b[0mdata_real_list\u001b[0m\u001b[1;33m)\u001b[0m\u001b[1;33m\u001b[0m\u001b[1;33m\u001b[0m\u001b[0m\n\u001b[0m\u001b[0;32m     40\u001b[0m \u001b[0msim_data\u001b[0m \u001b[1;33m=\u001b[0m \u001b[0mload_sim_data\u001b[0m\u001b[1;33m(\u001b[0m\u001b[0mdata_sim_list\u001b[0m\u001b[1;33m)\u001b[0m\u001b[1;33m\u001b[0m\u001b[1;33m\u001b[0m\u001b[0m\n\u001b[0;32m     41\u001b[0m \u001b[1;33m\u001b[0m\u001b[0m\n",
      "\u001b[1;32mc:\\Users\\Cleah\\Documents\\Projects\\University Research\\Robot Learning Lab\\Simulator\\airsim-car-experiments\\PythonClient\\reinforcement_learning\\image_dataset.py\u001b[0m in \u001b[0;36mload_real_data\u001b[1;34m(data_path_list)\u001b[0m\n\u001b[0;32m    193\u001b[0m             \u001b[0msteering_angles_tensor\u001b[0m \u001b[1;33m=\u001b[0m \u001b[0msteering_angles\u001b[0m\u001b[1;33m[\u001b[0m\u001b[1;33m:\u001b[0m\u001b[1;33m,\u001b[0m \u001b[1;33m:\u001b[0m\u001b[1;36m1\u001b[0m\u001b[1;33m]\u001b[0m  \u001b[1;31m# Select only the first control\u001b[0m\u001b[1;33m\u001b[0m\u001b[1;33m\u001b[0m\u001b[0m\n\u001b[0;32m    194\u001b[0m \u001b[1;33m\u001b[0m\u001b[0m\n\u001b[1;32m--> 195\u001b[1;33m             \u001b[0mimages\u001b[0m \u001b[1;33m=\u001b[0m \u001b[0mtorch\u001b[0m\u001b[1;33m.\u001b[0m\u001b[0mfrom_numpy\u001b[0m\u001b[1;33m(\u001b[0m\u001b[0mnp\u001b[0m\u001b[1;33m.\u001b[0m\u001b[0mload\u001b[0m\u001b[1;33m(\u001b[0m\u001b[0mpath\u001b[0m \u001b[1;33m+\u001b[0m \u001b[1;34mf\"split_images\\images_{i}.npy\"\u001b[0m\u001b[1;33m)\u001b[0m\u001b[1;33m)\u001b[0m\u001b[1;33m.\u001b[0m\u001b[0mfloat\u001b[0m\u001b[1;33m(\u001b[0m\u001b[1;33m)\u001b[0m\u001b[1;33m\u001b[0m\u001b[1;33m\u001b[0m\u001b[0m\n\u001b[0m\u001b[0;32m    196\u001b[0m             \u001b[0mimages\u001b[0m \u001b[1;33m=\u001b[0m \u001b[0mtorch\u001b[0m\u001b[1;33m.\u001b[0m\u001b[0mpermute\u001b[0m\u001b[1;33m(\u001b[0m\u001b[0mimages\u001b[0m\u001b[1;33m,\u001b[0m \u001b[1;33m(\u001b[0m\u001b[1;36m0\u001b[0m\u001b[1;33m,\u001b[0m\u001b[1;36m3\u001b[0m\u001b[1;33m,\u001b[0m\u001b[1;36m1\u001b[0m\u001b[1;33m,\u001b[0m\u001b[1;36m2\u001b[0m\u001b[1;33m)\u001b[0m\u001b[1;33m)\u001b[0m\u001b[1;33m\u001b[0m\u001b[1;33m\u001b[0m\u001b[0m\n\u001b[0;32m    197\u001b[0m \u001b[1;33m\u001b[0m\u001b[0m\n",
      "\u001b[1;31mRuntimeError\u001b[0m: [enforce fail at ..\\c10\\core\\CPUAllocator.cpp:79] data. DefaultCPUAllocator: not enough memory: you tried to allocate 3004416000 bytes."
     ]
    }
   ],
   "source": [
    "# Load data. \n",
    "\n",
    "data_real_list = [f\"{data_real_dir}\"]\n",
    "if sim_environ == \"Costline\":\n",
    "    data_sim_list = [f\"{data_sim_dir}2024-04-11-15-53-41\",\n",
    "                    f\"{data_sim_dir}2024-04-11-16-05-07\",\n",
    "                    f\"{data_sim_dir}2024-04-11-16-10-31\",\n",
    "                    f\"{data_sim_dir}2024-04-11-16-19-34\",\n",
    "                    f\"{data_sim_dir}2024-04-16-11-53-00\",\n",
    "                    f\"{data_sim_dir}2024-04-16-15-31-04\",\n",
    "                    f\"{data_sim_dir}2024-04-16-22-04-03\",\n",
    "                    f\"{data_sim_dir}2024-04-17-08-51-28\",\n",
    "                    f\"{data_sim_dir}2024-04-17-08-53-25\",\n",
    "                ]\n",
    "else:\n",
    "    data_sim_list =[f\"{data_sim_dir}2023-07-20-12-44-49\",\n",
    "                    f\"{data_sim_dir}2023-07-20-15-11-35\",\n",
    "                    f\"{data_sim_dir}2023-08-31-12-43-09\",\n",
    "                    f\"{data_sim_dir}2023-08-31-17-38-56\",\n",
    "                    f\"{data_sim_dir}2023-08-31-17-46-35\",\n",
    "                    f\"{data_sim_dir}2023-08-31-17-58-47\",\n",
    "                    f\"{data_sim_dir}2023-08-31-18-25-48\",\n",
    "                    f\"{data_sim_dir}2023-08-31-18-38-10\",\n",
    "                    f\"{data_sim_dir}2023-09-05-10-46-44\",\n",
    "                    f\"{data_sim_dir}2023-09-05-17-52-22\",\n",
    "                    f\"{data_sim_dir}2023-09-05-18-15-04\",\n",
    "                    f\"{data_sim_dir}2023-09-07-11-39-09\",\n",
    "                    f\"{data_sim_dir}2023-09-08-08-26-58\",\n",
    "                    f\"{data_sim_dir}2023-09-08-08-33-30\",\n",
    "                    f\"{data_sim_dir}2023-09-08-08-43-51\",\n",
    "                    f\"{data_sim_dir}2023-09-08-09-37-12\",\n",
    "                    f\"{data_sim_dir}2023-09-08-11-44-53\",\n",
    "                    f\"{data_sim_dir}2023-09-08-11-49-02\",\n",
    "                    f\"{data_sim_dir}2023-09-08-11-53-42\",\n",
    "                    f\"{data_sim_dir}2023-09-08-11-55-47\",\n",
    "                    f\"{data_sim_dir}2023-09-12-10-26-49\"\n",
    "                ]\n",
    "\n",
    "real_data = load_real_data(data_real_list)\n",
    "sim_data = load_sim_data(data_sim_list)\n",
    "\n",
    "shuffled_real_sim_data = shuffle_real_sim_data(real_data, sim_data, sim_ratio)\n",
    "plt.imshow(real_data[0][5])\n",
    "plt.show()\n",
    "\n",
    "dataset = ImageSteeringAngleDataset(shuffled_real_sim_data[0], shuffled_real_sim_data[1])\n",
    "length = dataset.__len__()\n",
    "train_length = int(0.8 * length)\n",
    "test_length = int(length - train_length)\n",
    "split = random_split(dataset, [train_length, test_length], generator=torch.Generator().manual_seed(42))\n",
    "\n",
    "\n",
    "trainloader = torch.utils.data.DataLoader(split[0], batch_size=batch_size, shuffle=True)\n",
    "testloader = torch.utils.data.DataLoader(split[1], batch_size=batch_size, shuffle=True)\n",
    "#### Train\n",
    "# Loads model\n",
    "\n",
    "# Optimizer\n",
    "\n",
    "# Optimizer\n",
    "loss = nn.MSELoss()\n",
    "\n",
    "running_loss = 0;\n",
    "for i, data in enumerate(testloader, 0):\n",
    "    # get the inputs; data is a list of [inputs, labels]\n",
    "    inputs, labels = data\n",
    "    inputs, labels = inputs.float(), labels.float()\n",
    "    outputs = cnn(inputs)\n",
    "    loss_out = loss(outputs, labels)\n",
    "\n",
    "    running_loss += loss_out.item()\n",
    "    print(f\"Loss out {loss_out.item()}\")\n",
    "\n",
    "print(f\"Running Loss {running_loss / i}\")\n",
    "\n",
    "print('Finished Testing')"
   ]
  },
  {
   "cell_type": "code",
   "execution_count": null,
   "metadata": {},
   "outputs": [],
   "source": [
    "# Use saved model\n",
    "cnn = NeighborhoodRealCNN()\n",
    "cnn.load_state_dict(torch.load(os.path.join(PATH,model_dir)))\n",
    "cnn.eval()\n",
    "\n",
    "# Optimizer\n",
    "loss = nn.MSELoss()\n",
    "\n",
    "running_loss = 0;\n",
    "for i, data in enumerate(testloader, 0):\n",
    "    # get the inputs; data is a list of [inputs, labels]\n",
    "    inputs, labels = data\n",
    "    inputs, labels = inputs.float(), labels.float()\n",
    "    outputs = cnn(inputs)\n",
    "    loss_out = loss(outputs, labels)\n",
    "\n",
    "    running_loss += loss_out.item()\n",
    "    print(f\"Loss out {loss_out.item()}\")\n",
    "\n",
    "print(f\"Running Loss {running_loss / i}\")\n",
    "\n",
    "print('Finished Testing')"
   ]
  }
 ],
 "metadata": {
  "kernelspec": {
   "display_name": "Python 3",
   "language": "python",
   "name": "python3"
  },
  "language_info": {
   "name": "python",
   "version": "3.9.4"
  }
 },
 "nbformat": 4,
 "nbformat_minor": 2
}
